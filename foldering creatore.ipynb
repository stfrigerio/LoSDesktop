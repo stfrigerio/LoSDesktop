{
 "cells": [
  {
   "cell_type": "code",
   "execution_count": 1,
   "metadata": {},
   "outputs": [
    {
     "name": "stdout",
     "output_type": "stream",
     "text": [
      "Listing structure for C:\\Users\\Stefano\\Documents\\GitHub\\free-clothes\n",
      "free-clothes\n",
      "| -- .babelrc\n",
      "| -- .d.ts\n",
      "| -- .gitattributes\n",
      "| -- .gitignore\n",
      "| -- foldering creatore.ipynb\n",
      "| -- package-lock.json\n",
      "| -- package.json\n",
      "| -- tsconfig.json\n",
      "| -- webpack.config.js\n",
      "| -- dist\n",
      "| -- | -- App.js\n",
      "| -- | -- App.js.map\n",
      "| -- | -- components\n",
      "| -- | -- | -- Home.js\n",
      "| -- | -- | -- Home.js.map\n",
      "| -- | -- main\n",
      "| -- | -- | -- database.js\n",
      "| -- | -- | -- database.js.map\n",
      "| -- | -- | -- ipcHandlers.js\n",
      "| -- | -- | -- ipcHandlers.js.map\n",
      "| -- | -- | -- main.js\n",
      "| -- | -- | -- main.js.map\n",
      "| -- | -- | -- preload.js\n",
      "| -- | -- | -- preload.js.map\n",
      "| -- | -- renderer\n",
      "| -- | -- | -- index.js\n",
      "| -- | -- | -- index.js.map\n",
      "| -- public\n",
      "| -- | -- index.html\n",
      "| -- src\n",
      "| -- | -- App.tsx\n",
      "| -- | -- components\n",
      "| -- | -- | -- Home.tsx\n",
      "| -- | -- main\n",
      "| -- | -- | -- database.ts\n",
      "| -- | -- | -- ipcHandlers.ts\n",
      "| -- | -- | -- main.ts\n",
      "| -- | -- | -- preload.ts\n",
      "| -- | -- renderer\n",
      "| -- | -- | -- index.tsx\n",
      "| -- | -- styles\n",
      "| -- | -- | -- styles.css\n"
     ]
    }
   ],
   "source": [
    "import os\n",
    "\n",
    "def list_files(startpath, ignored_folders=[]):\n",
    "    for root, dirs, files in os.walk(startpath):\n",
    "        # Remove ignored folders from traversal\n",
    "        dirs[:] = [d for d in dirs if d not in ignored_folders]\n",
    "\n",
    "        level = root.replace(startpath, '').count(os.sep)\n",
    "        indent = '| -- ' * level\n",
    "        print(f'{indent}{os.path.basename(root)}')\n",
    "        \n",
    "        subindent = '| -- ' * (level + 1)\n",
    "        for f in files:\n",
    "            print(f'{subindent}{f}')\n",
    "\n",
    "if __name__ == '__main__':\n",
    "    start_path = input(\"Enter the path of the folder you want to visualize: \")\n",
    "    # start_path = \"C:\\Users\\stefr\\Documents\\GitHub\\electron-react-app\"\n",
    "    # ignored = input(\"Enter names of folders to be ignored, separated by commas: \").split(\",\")\n",
    "    ignored = ['.git', 'node_modules', '__pycache__']\n",
    "    ignored = [i.strip() for i in ignored]\n",
    "\n",
    "    if os.path.exists(start_path):\n",
    "        print(f\"Listing structure for {start_path}\")\n",
    "        list_files(start_path, ignored_folders=ignored)\n",
    "    else:\n",
    "        print(\"The specified path does not exist.\")\n"
   ]
  }
 ],
 "metadata": {
  "kernelspec": {
   "display_name": "Python 3",
   "language": "python",
   "name": "python3"
  },
  "language_info": {
   "codemirror_mode": {
    "name": "ipython",
    "version": 3
   },
   "file_extension": ".py",
   "mimetype": "text/x-python",
   "name": "python",
   "nbconvert_exporter": "python",
   "pygments_lexer": "ipython3",
   "version": "3.10.7"
  },
  "orig_nbformat": 4
 },
 "nbformat": 4,
 "nbformat_minor": 2
}
